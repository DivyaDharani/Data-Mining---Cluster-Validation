{
 "cells": [
  {
   "cell_type": "markdown",
   "metadata": {},
   "source": [
    "# Project 3: Cluster Validation\n",
    "#### The purpose is to apply the cluster validation technique to data extracted from a provided data set."
   ]
  },
  {
   "cell_type": "code",
   "execution_count": 17,
   "metadata": {},
   "outputs": [],
   "source": [
    "import pandas as pd\n",
    "import math\n",
    "from datetime import datetime, timedelta\n",
    "from sklearn.cluster import KMeans\n",
    "from sklearn.cluster import DBSCAN\n",
    "from scipy.spatial import distance\n",
    "from scipy.stats import entropy\n",
    "import numpy as np\n",
    "import matplotlib.pyplot as plt\n",
    "from sklearn.decomposition import PCA"
   ]
  },
  {
   "cell_type": "code",
   "execution_count": 18,
   "metadata": {},
   "outputs": [],
   "source": [
    "#from main import extract_features, perform_PCA"
   ]
  },
  {
   "cell_type": "markdown",
   "metadata": {},
   "source": [
    "### Extracting Datasets"
   ]
  },
  {
   "cell_type": "code",
   "execution_count": 19,
   "metadata": {},
   "outputs": [],
   "source": [
    "insulin_data_file_path = 'InsulinData.csv'\n",
    "cgm_data_file_path = 'CGMData.csv'"
   ]
  },
  {
   "cell_type": "code",
   "execution_count": 20,
   "metadata": {},
   "outputs": [],
   "source": [
    "insulin_dataset_full = pd.read_csv(insulin_data_file_path, low_memory = False)\n",
    "insulin_data = insulin_dataset_full[['Date', 'Time', 'BWZ Carb Input (grams)']]"
   ]
  },
  {
   "cell_type": "code",
   "execution_count": 21,
   "metadata": {},
   "outputs": [
    {
     "data": {
      "text/html": [
       "<div>\n",
       "<style scoped>\n",
       "    .dataframe tbody tr th:only-of-type {\n",
       "        vertical-align: middle;\n",
       "    }\n",
       "\n",
       "    .dataframe tbody tr th {\n",
       "        vertical-align: top;\n",
       "    }\n",
       "\n",
       "    .dataframe thead th {\n",
       "        text-align: right;\n",
       "    }\n",
       "</style>\n",
       "<table border=\"1\" class=\"dataframe\">\n",
       "  <thead>\n",
       "    <tr style=\"text-align: right;\">\n",
       "      <th></th>\n",
       "      <th>Date</th>\n",
       "      <th>Time</th>\n",
       "      <th>BWZ Carb Input (grams)</th>\n",
       "    </tr>\n",
       "  </thead>\n",
       "  <tbody>\n",
       "    <tr>\n",
       "      <th>0</th>\n",
       "      <td>2/12/2018</td>\n",
       "      <td>13:20:53</td>\n",
       "      <td>NaN</td>\n",
       "    </tr>\n",
       "    <tr>\n",
       "      <th>1</th>\n",
       "      <td>2/12/2018</td>\n",
       "      <td>13:20:48</td>\n",
       "      <td>NaN</td>\n",
       "    </tr>\n",
       "    <tr>\n",
       "      <th>2</th>\n",
       "      <td>2/12/2018</td>\n",
       "      <td>13:18:48</td>\n",
       "      <td>NaN</td>\n",
       "    </tr>\n",
       "    <tr>\n",
       "      <th>3</th>\n",
       "      <td>2/12/2018</td>\n",
       "      <td>13:18:48</td>\n",
       "      <td>NaN</td>\n",
       "    </tr>\n",
       "    <tr>\n",
       "      <th>4</th>\n",
       "      <td>2/12/2018</td>\n",
       "      <td>13:12:33</td>\n",
       "      <td>NaN</td>\n",
       "    </tr>\n",
       "    <tr>\n",
       "      <th>...</th>\n",
       "      <td>...</td>\n",
       "      <td>...</td>\n",
       "      <td>...</td>\n",
       "    </tr>\n",
       "    <tr>\n",
       "      <th>41430</th>\n",
       "      <td>7/24/2017</td>\n",
       "      <td>19:00:01</td>\n",
       "      <td>NaN</td>\n",
       "    </tr>\n",
       "    <tr>\n",
       "      <th>41431</th>\n",
       "      <td>7/24/2017</td>\n",
       "      <td>18:59:44</td>\n",
       "      <td>NaN</td>\n",
       "    </tr>\n",
       "    <tr>\n",
       "      <th>41432</th>\n",
       "      <td>7/24/2017</td>\n",
       "      <td>18:59:44</td>\n",
       "      <td>NaN</td>\n",
       "    </tr>\n",
       "    <tr>\n",
       "      <th>41433</th>\n",
       "      <td>7/24/2017</td>\n",
       "      <td>18:59:44</td>\n",
       "      <td>NaN</td>\n",
       "    </tr>\n",
       "    <tr>\n",
       "      <th>41434</th>\n",
       "      <td>7/24/2017</td>\n",
       "      <td>18:59:42</td>\n",
       "      <td>NaN</td>\n",
       "    </tr>\n",
       "  </tbody>\n",
       "</table>\n",
       "<p>41435 rows × 3 columns</p>\n",
       "</div>"
      ],
      "text/plain": [
       "            Date      Time  BWZ Carb Input (grams)\n",
       "0      2/12/2018  13:20:53                     NaN\n",
       "1      2/12/2018  13:20:48                     NaN\n",
       "2      2/12/2018  13:18:48                     NaN\n",
       "3      2/12/2018  13:18:48                     NaN\n",
       "4      2/12/2018  13:12:33                     NaN\n",
       "...          ...       ...                     ...\n",
       "41430  7/24/2017  19:00:01                     NaN\n",
       "41431  7/24/2017  18:59:44                     NaN\n",
       "41432  7/24/2017  18:59:44                     NaN\n",
       "41433  7/24/2017  18:59:44                     NaN\n",
       "41434  7/24/2017  18:59:42                     NaN\n",
       "\n",
       "[41435 rows x 3 columns]"
      ]
     },
     "execution_count": 21,
     "metadata": {},
     "output_type": "execute_result"
    }
   ],
   "source": [
    "insulin_data"
   ]
  },
  {
   "cell_type": "code",
   "execution_count": 22,
   "metadata": {},
   "outputs": [],
   "source": [
    "cgm_data_set_full = pd.read_csv('CGMData.csv', low_memory = False)\n",
    "cgm_data = cgm_data_set_full[['Date', 'Time', 'Sensor Glucose (mg/dL)']]\n",
    "cgm_data.dropna(inplace = True)"
   ]
  },
  {
   "cell_type": "code",
   "execution_count": 23,
   "metadata": {},
   "outputs": [
    {
     "data": {
      "text/html": [
       "<div>\n",
       "<style scoped>\n",
       "    .dataframe tbody tr th:only-of-type {\n",
       "        vertical-align: middle;\n",
       "    }\n",
       "\n",
       "    .dataframe tbody tr th {\n",
       "        vertical-align: top;\n",
       "    }\n",
       "\n",
       "    .dataframe thead th {\n",
       "        text-align: right;\n",
       "    }\n",
       "</style>\n",
       "<table border=\"1\" class=\"dataframe\">\n",
       "  <thead>\n",
       "    <tr style=\"text-align: right;\">\n",
       "      <th></th>\n",
       "      <th>Date</th>\n",
       "      <th>Time</th>\n",
       "      <th>Sensor Glucose (mg/dL)</th>\n",
       "    </tr>\n",
       "  </thead>\n",
       "  <tbody>\n",
       "    <tr>\n",
       "      <th>0</th>\n",
       "      <td>2/12/2018</td>\n",
       "      <td>13:22:27</td>\n",
       "      <td>118.0</td>\n",
       "    </tr>\n",
       "    <tr>\n",
       "      <th>1</th>\n",
       "      <td>2/12/2018</td>\n",
       "      <td>13:17:27</td>\n",
       "      <td>122.0</td>\n",
       "    </tr>\n",
       "    <tr>\n",
       "      <th>5</th>\n",
       "      <td>2/12/2018</td>\n",
       "      <td>12:57:27</td>\n",
       "      <td>124.0</td>\n",
       "    </tr>\n",
       "    <tr>\n",
       "      <th>6</th>\n",
       "      <td>2/12/2018</td>\n",
       "      <td>12:52:27</td>\n",
       "      <td>126.0</td>\n",
       "    </tr>\n",
       "    <tr>\n",
       "      <th>7</th>\n",
       "      <td>2/12/2018</td>\n",
       "      <td>12:47:27</td>\n",
       "      <td>127.0</td>\n",
       "    </tr>\n",
       "    <tr>\n",
       "      <th>...</th>\n",
       "      <td>...</td>\n",
       "      <td>...</td>\n",
       "      <td>...</td>\n",
       "    </tr>\n",
       "    <tr>\n",
       "      <th>55338</th>\n",
       "      <td>7/25/2017</td>\n",
       "      <td>12:28:54</td>\n",
       "      <td>311.0</td>\n",
       "    </tr>\n",
       "    <tr>\n",
       "      <th>55339</th>\n",
       "      <td>7/25/2017</td>\n",
       "      <td>12:23:54</td>\n",
       "      <td>311.0</td>\n",
       "    </tr>\n",
       "    <tr>\n",
       "      <th>55340</th>\n",
       "      <td>7/25/2017</td>\n",
       "      <td>12:18:54</td>\n",
       "      <td>309.0</td>\n",
       "    </tr>\n",
       "    <tr>\n",
       "      <th>55341</th>\n",
       "      <td>7/25/2017</td>\n",
       "      <td>12:13:54</td>\n",
       "      <td>310.0</td>\n",
       "    </tr>\n",
       "    <tr>\n",
       "      <th>55342</th>\n",
       "      <td>7/25/2017</td>\n",
       "      <td>12:08:54</td>\n",
       "      <td>314.0</td>\n",
       "    </tr>\n",
       "  </tbody>\n",
       "</table>\n",
       "<p>51175 rows × 3 columns</p>\n",
       "</div>"
      ],
      "text/plain": [
       "            Date      Time  Sensor Glucose (mg/dL)\n",
       "0      2/12/2018  13:22:27                   118.0\n",
       "1      2/12/2018  13:17:27                   122.0\n",
       "5      2/12/2018  12:57:27                   124.0\n",
       "6      2/12/2018  12:52:27                   126.0\n",
       "7      2/12/2018  12:47:27                   127.0\n",
       "...          ...       ...                     ...\n",
       "55338  7/25/2017  12:28:54                   311.0\n",
       "55339  7/25/2017  12:23:54                   311.0\n",
       "55340  7/25/2017  12:18:54                   309.0\n",
       "55341  7/25/2017  12:13:54                   310.0\n",
       "55342  7/25/2017  12:08:54                   314.0\n",
       "\n",
       "[51175 rows x 3 columns]"
      ]
     },
     "execution_count": 23,
     "metadata": {},
     "output_type": "execute_result"
    }
   ],
   "source": [
    "cgm_data"
   ]
  },
  {
   "cell_type": "markdown",
   "metadata": {},
   "source": [
    "### Combining Date and Time as DateTime object"
   ]
  },
  {
   "cell_type": "code",
   "execution_count": 24,
   "metadata": {},
   "outputs": [],
   "source": [
    "insulin_data['DateTime'] = pd.to_datetime(insulin_data['Date'] + ' ' + insulin_data['Time'], format = '%m/%d/%Y %H:%M:%S')\n",
    "cgm_data['DateTime'] = pd.to_datetime(cgm_data['Date'] + \" \" + cgm_data['Time'], format = '%m/%d/%Y %H:%M:%S')"
   ]
  },
  {
   "cell_type": "code",
   "execution_count": 25,
   "metadata": {},
   "outputs": [
    {
     "data": {
      "text/html": [
       "<div>\n",
       "<style scoped>\n",
       "    .dataframe tbody tr th:only-of-type {\n",
       "        vertical-align: middle;\n",
       "    }\n",
       "\n",
       "    .dataframe tbody tr th {\n",
       "        vertical-align: top;\n",
       "    }\n",
       "\n",
       "    .dataframe thead th {\n",
       "        text-align: right;\n",
       "    }\n",
       "</style>\n",
       "<table border=\"1\" class=\"dataframe\">\n",
       "  <thead>\n",
       "    <tr style=\"text-align: right;\">\n",
       "      <th></th>\n",
       "      <th>Date</th>\n",
       "      <th>Time</th>\n",
       "      <th>BWZ Carb Input (grams)</th>\n",
       "      <th>DateTime</th>\n",
       "    </tr>\n",
       "  </thead>\n",
       "  <tbody>\n",
       "    <tr>\n",
       "      <th>0</th>\n",
       "      <td>2/12/2018</td>\n",
       "      <td>13:20:53</td>\n",
       "      <td>NaN</td>\n",
       "      <td>2018-02-12 13:20:53</td>\n",
       "    </tr>\n",
       "    <tr>\n",
       "      <th>1</th>\n",
       "      <td>2/12/2018</td>\n",
       "      <td>13:20:48</td>\n",
       "      <td>NaN</td>\n",
       "      <td>2018-02-12 13:20:48</td>\n",
       "    </tr>\n",
       "    <tr>\n",
       "      <th>2</th>\n",
       "      <td>2/12/2018</td>\n",
       "      <td>13:18:48</td>\n",
       "      <td>NaN</td>\n",
       "      <td>2018-02-12 13:18:48</td>\n",
       "    </tr>\n",
       "    <tr>\n",
       "      <th>3</th>\n",
       "      <td>2/12/2018</td>\n",
       "      <td>13:18:48</td>\n",
       "      <td>NaN</td>\n",
       "      <td>2018-02-12 13:18:48</td>\n",
       "    </tr>\n",
       "    <tr>\n",
       "      <th>4</th>\n",
       "      <td>2/12/2018</td>\n",
       "      <td>13:12:33</td>\n",
       "      <td>NaN</td>\n",
       "      <td>2018-02-12 13:12:33</td>\n",
       "    </tr>\n",
       "    <tr>\n",
       "      <th>...</th>\n",
       "      <td>...</td>\n",
       "      <td>...</td>\n",
       "      <td>...</td>\n",
       "      <td>...</td>\n",
       "    </tr>\n",
       "    <tr>\n",
       "      <th>41430</th>\n",
       "      <td>7/24/2017</td>\n",
       "      <td>19:00:01</td>\n",
       "      <td>NaN</td>\n",
       "      <td>2017-07-24 19:00:01</td>\n",
       "    </tr>\n",
       "    <tr>\n",
       "      <th>41431</th>\n",
       "      <td>7/24/2017</td>\n",
       "      <td>18:59:44</td>\n",
       "      <td>NaN</td>\n",
       "      <td>2017-07-24 18:59:44</td>\n",
       "    </tr>\n",
       "    <tr>\n",
       "      <th>41432</th>\n",
       "      <td>7/24/2017</td>\n",
       "      <td>18:59:44</td>\n",
       "      <td>NaN</td>\n",
       "      <td>2017-07-24 18:59:44</td>\n",
       "    </tr>\n",
       "    <tr>\n",
       "      <th>41433</th>\n",
       "      <td>7/24/2017</td>\n",
       "      <td>18:59:44</td>\n",
       "      <td>NaN</td>\n",
       "      <td>2017-07-24 18:59:44</td>\n",
       "    </tr>\n",
       "    <tr>\n",
       "      <th>41434</th>\n",
       "      <td>7/24/2017</td>\n",
       "      <td>18:59:42</td>\n",
       "      <td>NaN</td>\n",
       "      <td>2017-07-24 18:59:42</td>\n",
       "    </tr>\n",
       "  </tbody>\n",
       "</table>\n",
       "<p>41435 rows × 4 columns</p>\n",
       "</div>"
      ],
      "text/plain": [
       "            Date      Time  BWZ Carb Input (grams)            DateTime\n",
       "0      2/12/2018  13:20:53                     NaN 2018-02-12 13:20:53\n",
       "1      2/12/2018  13:20:48                     NaN 2018-02-12 13:20:48\n",
       "2      2/12/2018  13:18:48                     NaN 2018-02-12 13:18:48\n",
       "3      2/12/2018  13:18:48                     NaN 2018-02-12 13:18:48\n",
       "4      2/12/2018  13:12:33                     NaN 2018-02-12 13:12:33\n",
       "...          ...       ...                     ...                 ...\n",
       "41430  7/24/2017  19:00:01                     NaN 2017-07-24 19:00:01\n",
       "41431  7/24/2017  18:59:44                     NaN 2017-07-24 18:59:44\n",
       "41432  7/24/2017  18:59:44                     NaN 2017-07-24 18:59:44\n",
       "41433  7/24/2017  18:59:44                     NaN 2017-07-24 18:59:44\n",
       "41434  7/24/2017  18:59:42                     NaN 2017-07-24 18:59:42\n",
       "\n",
       "[41435 rows x 4 columns]"
      ]
     },
     "execution_count": 25,
     "metadata": {},
     "output_type": "execute_result"
    }
   ],
   "source": [
    "insulin_data"
   ]
  },
  {
   "cell_type": "code",
   "execution_count": 26,
   "metadata": {},
   "outputs": [
    {
     "data": {
      "text/html": [
       "<div>\n",
       "<style scoped>\n",
       "    .dataframe tbody tr th:only-of-type {\n",
       "        vertical-align: middle;\n",
       "    }\n",
       "\n",
       "    .dataframe tbody tr th {\n",
       "        vertical-align: top;\n",
       "    }\n",
       "\n",
       "    .dataframe thead th {\n",
       "        text-align: right;\n",
       "    }\n",
       "</style>\n",
       "<table border=\"1\" class=\"dataframe\">\n",
       "  <thead>\n",
       "    <tr style=\"text-align: right;\">\n",
       "      <th></th>\n",
       "      <th>Date</th>\n",
       "      <th>Time</th>\n",
       "      <th>Sensor Glucose (mg/dL)</th>\n",
       "      <th>DateTime</th>\n",
       "    </tr>\n",
       "  </thead>\n",
       "  <tbody>\n",
       "    <tr>\n",
       "      <th>0</th>\n",
       "      <td>2/12/2018</td>\n",
       "      <td>13:22:27</td>\n",
       "      <td>118.0</td>\n",
       "      <td>2018-02-12 13:22:27</td>\n",
       "    </tr>\n",
       "    <tr>\n",
       "      <th>1</th>\n",
       "      <td>2/12/2018</td>\n",
       "      <td>13:17:27</td>\n",
       "      <td>122.0</td>\n",
       "      <td>2018-02-12 13:17:27</td>\n",
       "    </tr>\n",
       "    <tr>\n",
       "      <th>5</th>\n",
       "      <td>2/12/2018</td>\n",
       "      <td>12:57:27</td>\n",
       "      <td>124.0</td>\n",
       "      <td>2018-02-12 12:57:27</td>\n",
       "    </tr>\n",
       "    <tr>\n",
       "      <th>6</th>\n",
       "      <td>2/12/2018</td>\n",
       "      <td>12:52:27</td>\n",
       "      <td>126.0</td>\n",
       "      <td>2018-02-12 12:52:27</td>\n",
       "    </tr>\n",
       "    <tr>\n",
       "      <th>7</th>\n",
       "      <td>2/12/2018</td>\n",
       "      <td>12:47:27</td>\n",
       "      <td>127.0</td>\n",
       "      <td>2018-02-12 12:47:27</td>\n",
       "    </tr>\n",
       "    <tr>\n",
       "      <th>...</th>\n",
       "      <td>...</td>\n",
       "      <td>...</td>\n",
       "      <td>...</td>\n",
       "      <td>...</td>\n",
       "    </tr>\n",
       "    <tr>\n",
       "      <th>55338</th>\n",
       "      <td>7/25/2017</td>\n",
       "      <td>12:28:54</td>\n",
       "      <td>311.0</td>\n",
       "      <td>2017-07-25 12:28:54</td>\n",
       "    </tr>\n",
       "    <tr>\n",
       "      <th>55339</th>\n",
       "      <td>7/25/2017</td>\n",
       "      <td>12:23:54</td>\n",
       "      <td>311.0</td>\n",
       "      <td>2017-07-25 12:23:54</td>\n",
       "    </tr>\n",
       "    <tr>\n",
       "      <th>55340</th>\n",
       "      <td>7/25/2017</td>\n",
       "      <td>12:18:54</td>\n",
       "      <td>309.0</td>\n",
       "      <td>2017-07-25 12:18:54</td>\n",
       "    </tr>\n",
       "    <tr>\n",
       "      <th>55341</th>\n",
       "      <td>7/25/2017</td>\n",
       "      <td>12:13:54</td>\n",
       "      <td>310.0</td>\n",
       "      <td>2017-07-25 12:13:54</td>\n",
       "    </tr>\n",
       "    <tr>\n",
       "      <th>55342</th>\n",
       "      <td>7/25/2017</td>\n",
       "      <td>12:08:54</td>\n",
       "      <td>314.0</td>\n",
       "      <td>2017-07-25 12:08:54</td>\n",
       "    </tr>\n",
       "  </tbody>\n",
       "</table>\n",
       "<p>51175 rows × 4 columns</p>\n",
       "</div>"
      ],
      "text/plain": [
       "            Date      Time  Sensor Glucose (mg/dL)            DateTime\n",
       "0      2/12/2018  13:22:27                   118.0 2018-02-12 13:22:27\n",
       "1      2/12/2018  13:17:27                   122.0 2018-02-12 13:17:27\n",
       "5      2/12/2018  12:57:27                   124.0 2018-02-12 12:57:27\n",
       "6      2/12/2018  12:52:27                   126.0 2018-02-12 12:52:27\n",
       "7      2/12/2018  12:47:27                   127.0 2018-02-12 12:47:27\n",
       "...          ...       ...                     ...                 ...\n",
       "55338  7/25/2017  12:28:54                   311.0 2017-07-25 12:28:54\n",
       "55339  7/25/2017  12:23:54                   311.0 2017-07-25 12:23:54\n",
       "55340  7/25/2017  12:18:54                   309.0 2017-07-25 12:18:54\n",
       "55341  7/25/2017  12:13:54                   310.0 2017-07-25 12:13:54\n",
       "55342  7/25/2017  12:08:54                   314.0 2017-07-25 12:08:54\n",
       "\n",
       "[51175 rows x 4 columns]"
      ]
     },
     "execution_count": 26,
     "metadata": {},
     "output_type": "execute_result"
    }
   ],
   "source": [
    "cgm_data"
   ]
  },
  {
   "cell_type": "code",
   "execution_count": 27,
   "metadata": {},
   "outputs": [],
   "source": [
    "def get_datasets(insulin_data_file_path, cgm_data_file_path, date_time_format):\n",
    "    if date_time_format == '':\n",
    "        date_time_format = '%m/%d/%Y %H:%M:%S'\n",
    "    insulin_dataset_full = pd.read_csv(insulin_data_file_path, low_memory = False)\n",
    "    insulin_data = insulin_dataset_full[['Date', 'Time', 'BWZ Carb Input (grams)']]\n",
    "    cgm_data_set_full = pd.read_csv(cgm_data_file_path, low_memory = False)\n",
    "    cgm_data = cgm_data_set_full[['Date', 'Time', 'Sensor Glucose (mg/dL)']]\n",
    "    cgm_data.dropna(inplace = True)\n",
    "    insulin_data['DateTime'] = pd.to_datetime(insulin_data['Date'] + ' ' + insulin_data['Time'], format = date_time_format)\n",
    "    cgm_data['DateTime'] = pd.to_datetime(cgm_data['Date'] + \" \" + cgm_data['Time'], format = date_time_format)\n",
    "    return insulin_data, cgm_data"
   ]
  },
  {
   "cell_type": "code",
   "execution_count": 28,
   "metadata": {},
   "outputs": [],
   "source": [
    "insulin_dataset, cgm_dataset = get_datasets(insulin_data_file_path, cgm_data_file_path, '%m/%d/%Y %H:%M:%S')"
   ]
  },
  {
   "cell_type": "markdown",
   "metadata": {},
   "source": [
    "## Meal Data Extraction along with Carb Intake values"
   ]
  },
  {
   "cell_type": "code",
   "execution_count": 29,
   "metadata": {},
   "outputs": [],
   "source": [
    "#insulin_data_carb = insulin_data[insulin_data['BWZ Carb Input (grams)'].notna() & insulin_data['BWZ Carb Input (grams)'] != 0]"
   ]
  },
  {
   "cell_type": "code",
   "execution_count": 30,
   "metadata": {},
   "outputs": [],
   "source": [
    "#insulin_data_carb.rename({'DateTime' : 'MealStartDateTime'}, axis = 1, inplace = True)"
   ]
  },
  {
   "cell_type": "code",
   "execution_count": 31,
   "metadata": {},
   "outputs": [],
   "source": [
    "#insulin_data_carb.sort_values(by = 'MealStartDateTime', inplace = True)"
   ]
  },
  {
   "cell_type": "code",
   "execution_count": 32,
   "metadata": {},
   "outputs": [],
   "source": [
    "#insulin_data_carb"
   ]
  },
  {
   "cell_type": "code",
   "execution_count": 33,
   "metadata": {},
   "outputs": [],
   "source": [
    "#insulin_data_carb = insulin_data_carb[['MealStartDateTime', 'BWZ Carb Input (grams)']]"
   ]
  },
  {
   "cell_type": "code",
   "execution_count": 34,
   "metadata": {},
   "outputs": [],
   "source": [
    "#meal_start_times_with_carb = [tuple(x) for x in insulin_data_carb.to_numpy()]"
   ]
  },
  {
   "cell_type": "code",
   "execution_count": 35,
   "metadata": {},
   "outputs": [],
   "source": [
    "#meal_start_times_with_carb"
   ]
  },
  {
   "cell_type": "code",
   "execution_count": 36,
   "metadata": {},
   "outputs": [],
   "source": [
    "def get_meal_start_times_with_carb(insulin_dataset):\n",
    "    insulin_data_carb = insulin_dataset[insulin_dataset['BWZ Carb Input (grams)'].notna() & insulin_dataset['BWZ Carb Input (grams)'] != 0]\n",
    "    insulin_data_carb.rename({'DateTime' : 'MealStartDateTime'}, axis = 1, inplace = True)\n",
    "    insulin_data_carb = insulin_data_carb[['MealStartDateTime', 'BWZ Carb Input (grams)']]\n",
    "    insulin_data_carb.sort_values(by = 'MealStartDateTime', inplace = True)\n",
    "    \n",
    "    meal_start_times_with_carb = [tuple(x) for x in insulin_data_carb.to_numpy()]\n",
    "    \n",
    "    return meal_start_times_with_carb"
   ]
  },
  {
   "cell_type": "code",
   "execution_count": 37,
   "metadata": {},
   "outputs": [],
   "source": [
    "def get_valid_meal_start_times_with_carb(meal_start_times_with_carb):\n",
    "    valid_meal_start_times_with_carb = []\n",
    "    for i in range(len(meal_start_times_with_carb)):\n",
    "        timestamp, carb = meal_start_times_with_carb[i]\n",
    "        if i > 0:\n",
    "            previous_timestamp = meal_start_times_with_carb[i-1][0]\n",
    "            if previous_timestamp > timestamp - timedelta(hours = 0.5):\n",
    "                continue\n",
    "\n",
    "        if i < len(meal_start_times_with_carb) - 1:\n",
    "            next_timestamp = meal_start_times_with_carb[i+1][0]\n",
    "            if next_timestamp < timestamp + timedelta(hours = 2):\n",
    "                continue\n",
    "\n",
    "        valid_meal_start_times_with_carb.append((timestamp, carb))\n",
    "    return valid_meal_start_times_with_carb"
   ]
  },
  {
   "cell_type": "code",
   "execution_count": 38,
   "metadata": {},
   "outputs": [],
   "source": [
    "def extract_meal_and_carb_data(cgm_dataset, valid_meal_start_times_with_carb):\n",
    "    meal_data = []\n",
    "    carb_data = []\n",
    "    for meal_time, carb in valid_meal_start_times_with_carb:\n",
    "        start_time = meal_time - timedelta(minutes = 30)\n",
    "        end_time = meal_time + timedelta(hours = 2)\n",
    "        filtered_data = cgm_dataset[(cgm_dataset['DateTime'] >= start_time) & (cgm_dataset['DateTime'] <= end_time)]\n",
    "        if len(filtered_data) > 0:\n",
    "            meal_data.append(list(filtered_data['Sensor Glucose (mg/dL)'].values))\n",
    "            carb_data.append(carb)\n",
    "    return meal_data, carb_data"
   ]
  },
  {
   "cell_type": "code",
   "execution_count": null,
   "metadata": {},
   "outputs": [],
   "source": []
  },
  {
   "cell_type": "code",
   "execution_count": 39,
   "metadata": {},
   "outputs": [],
   "source": [
    "meal_start_times_with_carb = get_meal_start_times_with_carb(insulin_data)\n",
    "valid_meal_start_times_with_carb = get_valid_meal_start_times_with_carb(meal_start_times_with_carb)"
   ]
  },
  {
   "cell_type": "code",
   "execution_count": 40,
   "metadata": {},
   "outputs": [
    {
     "name": "stdout",
     "output_type": "stream",
     "text": [
      "747\n",
      "561\n"
     ]
    }
   ],
   "source": [
    "print(len(meal_start_times_with_carb))\n",
    "print(len(valid_meal_start_times_with_carb))"
   ]
  },
  {
   "cell_type": "code",
   "execution_count": 41,
   "metadata": {},
   "outputs": [],
   "source": [
    "meal_data, carb_data = extract_meal_and_carb_data(cgm_data, valid_meal_start_times_with_carb)"
   ]
  },
  {
   "cell_type": "code",
   "execution_count": 42,
   "metadata": {},
   "outputs": [
    {
     "name": "stdout",
     "output_type": "stream",
     "text": [
      "541 541\n"
     ]
    }
   ],
   "source": [
    "print(len(meal_data), len(carb_data))"
   ]
  },
  {
   "cell_type": "markdown",
   "metadata": {},
   "source": [
    "## Feature Extraction"
   ]
  },
  {
   "cell_type": "code",
   "execution_count": 43,
   "metadata": {},
   "outputs": [],
   "source": [
    "def normalize(df):\n",
    "    return (df - df.min())/((df.max() - df.min()) * 1.0)"
   ]
  },
  {
   "cell_type": "code",
   "execution_count": 44,
   "metadata": {},
   "outputs": [],
   "source": [
    "def extract_features_and_normalize(meal_data):\n",
    "    F_meal_data_df = extract_features(meal_data)\n",
    "    F_meal_data_df = normalize(F_meal_data_df)\n",
    "    return F_meal_data_df"
   ]
  },
  {
   "cell_type": "code",
   "execution_count": 45,
   "metadata": {},
   "outputs": [],
   "source": [
    "F_meal_data_df = extract_features_and_normalize(meal_data)\n"
   ]
  },
  {
   "cell_type": "code",
   "execution_count": 46,
   "metadata": {},
   "outputs": [
    {
     "data": {
      "text/html": [
       "<div>\n",
       "<style scoped>\n",
       "    .dataframe tbody tr th:only-of-type {\n",
       "        vertical-align: middle;\n",
       "    }\n",
       "\n",
       "    .dataframe tbody tr th {\n",
       "        vertical-align: top;\n",
       "    }\n",
       "\n",
       "    .dataframe thead th {\n",
       "        text-align: right;\n",
       "    }\n",
       "</style>\n",
       "<table border=\"1\" class=\"dataframe\">\n",
       "  <thead>\n",
       "    <tr style=\"text-align: right;\">\n",
       "      <th></th>\n",
       "      <th>CGM_Max_Min_Diff</th>\n",
       "      <th>slope_delta_1</th>\n",
       "      <th>slope_delta_2</th>\n",
       "      <th>slope_delta_3</th>\n",
       "      <th>CGM_Max_Min_Time_Diff</th>\n",
       "      <th>fft_2</th>\n",
       "      <th>fft_3</th>\n",
       "      <th>fft_4</th>\n",
       "    </tr>\n",
       "  </thead>\n",
       "  <tbody>\n",
       "    <tr>\n",
       "      <th>0</th>\n",
       "      <td>0.451713</td>\n",
       "      <td>0.103846</td>\n",
       "      <td>0.088435</td>\n",
       "      <td>0.166667</td>\n",
       "      <td>0.034483</td>\n",
       "      <td>0.892857</td>\n",
       "      <td>0.071429</td>\n",
       "      <td>0.821429</td>\n",
       "    </tr>\n",
       "    <tr>\n",
       "      <th>1</th>\n",
       "      <td>0.261682</td>\n",
       "      <td>0.053846</td>\n",
       "      <td>0.081633</td>\n",
       "      <td>0.166667</td>\n",
       "      <td>0.655172</td>\n",
       "      <td>1.000000</td>\n",
       "      <td>0.000000</td>\n",
       "      <td>0.928571</td>\n",
       "    </tr>\n",
       "    <tr>\n",
       "      <th>2</th>\n",
       "      <td>0.286604</td>\n",
       "      <td>0.107692</td>\n",
       "      <td>0.142857</td>\n",
       "      <td>0.243590</td>\n",
       "      <td>0.327586</td>\n",
       "      <td>0.035714</td>\n",
       "      <td>0.964286</td>\n",
       "      <td>0.892857</td>\n",
       "    </tr>\n",
       "    <tr>\n",
       "      <th>3</th>\n",
       "      <td>0.149533</td>\n",
       "      <td>0.042308</td>\n",
       "      <td>0.068027</td>\n",
       "      <td>0.102564</td>\n",
       "      <td>0.327586</td>\n",
       "      <td>1.000000</td>\n",
       "      <td>0.000000</td>\n",
       "      <td>0.071429</td>\n",
       "    </tr>\n",
       "    <tr>\n",
       "      <th>4</th>\n",
       "      <td>0.283489</td>\n",
       "      <td>0.065385</td>\n",
       "      <td>0.095238</td>\n",
       "      <td>0.179487</td>\n",
       "      <td>0.310345</td>\n",
       "      <td>0.964286</td>\n",
       "      <td>0.035714</td>\n",
       "      <td>0.750000</td>\n",
       "    </tr>\n",
       "    <tr>\n",
       "      <th>...</th>\n",
       "      <td>...</td>\n",
       "      <td>...</td>\n",
       "      <td>...</td>\n",
       "      <td>...</td>\n",
       "      <td>...</td>\n",
       "      <td>...</td>\n",
       "      <td>...</td>\n",
       "      <td>...</td>\n",
       "    </tr>\n",
       "    <tr>\n",
       "      <th>536</th>\n",
       "      <td>0.137072</td>\n",
       "      <td>0.176923</td>\n",
       "      <td>0.285714</td>\n",
       "      <td>0.269231</td>\n",
       "      <td>0.775862</td>\n",
       "      <td>0.000000</td>\n",
       "      <td>1.000000</td>\n",
       "      <td>0.035714</td>\n",
       "    </tr>\n",
       "    <tr>\n",
       "      <th>537</th>\n",
       "      <td>0.127726</td>\n",
       "      <td>0.111538</td>\n",
       "      <td>0.095238</td>\n",
       "      <td>0.153846</td>\n",
       "      <td>0.568966</td>\n",
       "      <td>0.071429</td>\n",
       "      <td>0.142857</td>\n",
       "      <td>0.107143</td>\n",
       "    </tr>\n",
       "    <tr>\n",
       "      <th>538</th>\n",
       "      <td>0.314642</td>\n",
       "      <td>0.173077</td>\n",
       "      <td>0.156463</td>\n",
       "      <td>0.307692</td>\n",
       "      <td>0.086207</td>\n",
       "      <td>0.964286</td>\n",
       "      <td>0.035714</td>\n",
       "      <td>0.107143</td>\n",
       "    </tr>\n",
       "    <tr>\n",
       "      <th>539</th>\n",
       "      <td>0.274143</td>\n",
       "      <td>0.084615</td>\n",
       "      <td>0.136054</td>\n",
       "      <td>0.243590</td>\n",
       "      <td>0.327586</td>\n",
       "      <td>0.892857</td>\n",
       "      <td>0.071429</td>\n",
       "      <td>0.035714</td>\n",
       "    </tr>\n",
       "    <tr>\n",
       "      <th>540</th>\n",
       "      <td>0.140187</td>\n",
       "      <td>0.065385</td>\n",
       "      <td>0.095238</td>\n",
       "      <td>0.153846</td>\n",
       "      <td>0.137931</td>\n",
       "      <td>0.392857</td>\n",
       "      <td>0.607143</td>\n",
       "      <td>0.428571</td>\n",
       "    </tr>\n",
       "  </tbody>\n",
       "</table>\n",
       "<p>541 rows × 8 columns</p>\n",
       "</div>"
      ],
      "text/plain": [
       "     CGM_Max_Min_Diff  slope_delta_1  slope_delta_2  slope_delta_3  \\\n",
       "0            0.451713       0.103846       0.088435       0.166667   \n",
       "1            0.261682       0.053846       0.081633       0.166667   \n",
       "2            0.286604       0.107692       0.142857       0.243590   \n",
       "3            0.149533       0.042308       0.068027       0.102564   \n",
       "4            0.283489       0.065385       0.095238       0.179487   \n",
       "..                ...            ...            ...            ...   \n",
       "536          0.137072       0.176923       0.285714       0.269231   \n",
       "537          0.127726       0.111538       0.095238       0.153846   \n",
       "538          0.314642       0.173077       0.156463       0.307692   \n",
       "539          0.274143       0.084615       0.136054       0.243590   \n",
       "540          0.140187       0.065385       0.095238       0.153846   \n",
       "\n",
       "     CGM_Max_Min_Time_Diff     fft_2     fft_3     fft_4  \n",
       "0                 0.034483  0.892857  0.071429  0.821429  \n",
       "1                 0.655172  1.000000  0.000000  0.928571  \n",
       "2                 0.327586  0.035714  0.964286  0.892857  \n",
       "3                 0.327586  1.000000  0.000000  0.071429  \n",
       "4                 0.310345  0.964286  0.035714  0.750000  \n",
       "..                     ...       ...       ...       ...  \n",
       "536               0.775862  0.000000  1.000000  0.035714  \n",
       "537               0.568966  0.071429  0.142857  0.107143  \n",
       "538               0.086207  0.964286  0.035714  0.107143  \n",
       "539               0.327586  0.892857  0.071429  0.035714  \n",
       "540               0.137931  0.392857  0.607143  0.428571  \n",
       "\n",
       "[541 rows x 8 columns]"
      ]
     },
     "execution_count": 46,
     "metadata": {},
     "output_type": "execute_result"
    }
   ],
   "source": [
    "F_meal_data_df"
   ]
  },
  {
   "cell_type": "markdown",
   "metadata": {},
   "source": [
    "## Extracting Ground Truth: \n",
    "#### Derive the max and min value of meal intake amount from the Y column of the Insulin data. Discretize the meal amount in bins of size 20. Consider each row in the meal data matrix. Put them in the respective bins according to their meal amount label. In total you should have n = (max-min)/20 bins.\n"
   ]
  },
  {
   "cell_type": "code",
   "execution_count": 47,
   "metadata": {},
   "outputs": [],
   "source": [
    "def dropna_and_get_corresponding_carb_data(F_meal_data_df, carb_data):\n",
    "    F_meal_data_df['Carb Input'] = carb_data\n",
    "    F_meal_data_df.dropna(inplace = True)\n",
    "    carb_data = F_meal_data_df['Carb Input']\n",
    "    F_meal_data_df.drop(columns = ['Carb Input'], axis = 1, inplace = True)\n",
    "    return F_meal_data_df, carb_data"
   ]
  },
  {
   "cell_type": "code",
   "execution_count": 48,
   "metadata": {},
   "outputs": [],
   "source": [
    "F_meal_data_df, carb_data = dropna_and_get_corresponding_carb_data(F_meal_data_df, carb_data)"
   ]
  },
  {
   "cell_type": "code",
   "execution_count": 49,
   "metadata": {},
   "outputs": [
    {
     "data": {
      "text/plain": [
       "(528, 528)"
      ]
     },
     "execution_count": 49,
     "metadata": {},
     "output_type": "execute_result"
    }
   ],
   "source": [
    "len(F_meal_data_df), len(carb_data)"
   ]
  },
  {
   "cell_type": "code",
   "execution_count": 50,
   "metadata": {},
   "outputs": [],
   "source": [
    "def find_bin(val, min_val, bin_size):\n",
    "    return int((val-min_val)/(bin_size))"
   ]
  },
  {
   "cell_type": "code",
   "execution_count": 51,
   "metadata": {},
   "outputs": [],
   "source": [
    "def extract_ground_truth(carb_data, bin_size = 20):\n",
    "    ground_truth = []\n",
    "    min_carb = min(carb_data)\n",
    "    max_carb = max(carb_data)\n",
    "    for carb in carb_data:\n",
    "        ground_truth.append(find_bin(carb, min_carb, bin_size))\n",
    "    ground_truth_bin_count = math.ceil((max_carb - min_carb) / bin_size)\n",
    "    return ground_truth, ground_truth_bin_count"
   ]
  },
  {
   "cell_type": "code",
   "execution_count": 52,
   "metadata": {},
   "outputs": [],
   "source": [
    "ground_truth, ground_truth_bin_count = extract_ground_truth(carb_data)"
   ]
  },
  {
   "cell_type": "code",
   "execution_count": 53,
   "metadata": {},
   "outputs": [
    {
     "data": {
      "text/plain": [
       "(528, 7)"
      ]
     },
     "execution_count": 53,
     "metadata": {},
     "output_type": "execute_result"
    }
   ],
   "source": [
    "len(ground_truth), ground_truth_bin_count"
   ]
  },
  {
   "cell_type": "code",
   "execution_count": 54,
   "metadata": {},
   "outputs": [],
   "source": [
    "#(F_meal_data_df['Ground Truth'] == 0).value_counts()[True]\n"
   ]
  },
  {
   "cell_type": "markdown",
   "metadata": {},
   "source": [
    "## Clustering"
   ]
  },
  {
   "cell_type": "code",
   "execution_count": 55,
   "metadata": {},
   "outputs": [],
   "source": [
    "X = F_meal_data_df.to_numpy()\n",
    "N = ground_truth_bin_count"
   ]
  },
  {
   "cell_type": "code",
   "execution_count": null,
   "metadata": {},
   "outputs": [],
   "source": []
  },
  {
   "cell_type": "code",
   "execution_count": null,
   "metadata": {},
   "outputs": [],
   "source": []
  },
  {
   "cell_type": "markdown",
   "metadata": {},
   "source": [
    "## K-means Clustering"
   ]
  },
  {
   "cell_type": "code",
   "execution_count": 56,
   "metadata": {},
   "outputs": [],
   "source": [
    "kmeans = KMeans(n_clusters = N, random_state=2).fit(X)\n",
    "kmeans_labels = kmeans.labels_\n",
    "kmeans_cluster_centers = kmeans.cluster_centers_"
   ]
  },
  {
   "cell_type": "code",
   "execution_count": 57,
   "metadata": {},
   "outputs": [
    {
     "data": {
      "text/plain": [
       "(array([0, 1, 2, 3, 4, 5, 6]),\n",
       " array([ 41, 130,  83,  45,  73,  66,  90], dtype=int64))"
      ]
     },
     "execution_count": 57,
     "metadata": {},
     "output_type": "execute_result"
    }
   ],
   "source": [
    "np.unique(kmeans_labels, return_counts = True)"
   ]
  },
  {
   "cell_type": "code",
   "execution_count": 58,
   "metadata": {},
   "outputs": [
    {
     "name": "stdout",
     "output_type": "stream",
     "text": [
      "70.35433016569482\n"
     ]
    }
   ],
   "source": [
    "#SSE\n",
    "kmeans_sse = 0\n",
    "for i in range(len(X)):\n",
    "    data = X[i]\n",
    "    cluster_index = kmeans_labels[i]\n",
    "    centroid = kmeans_cluster_centers[cluster_index]\n",
    "    dist = distance.euclidean(data, centroid)\n",
    "    kmeans_sse += math.pow(dist, 2)\n",
    "print(kmeans_sse)"
   ]
  },
  {
   "cell_type": "code",
   "execution_count": 59,
   "metadata": {
    "scrolled": true
   },
   "outputs": [],
   "source": [
    "#Forming ground truth bin matrix for finding entropy\n",
    "\n",
    "\"\"\"\n",
    "ground_truth_bin_matrix = np.zeros((N, N)) #rows represent clusters; columns represent ground truth bins\n",
    "\n",
    "for i in range(len(X)):\n",
    "    data = X[i]\n",
    "    cluster_index = kmeans_labels[i]\n",
    "    bin_index = ground_truth[i]\n",
    "    ground_truth_bin_matrix[cluster_index][bin_index] += 1\n",
    "print(ground_truth_bin_matrix)\n",
    "\"\"\"\n",
    "\n",
    "\n",
    "def form_ground_truth_bin_matrix(X, cluster_labels, ground_truth):\n",
    "    numClusters = len(np.unique(cluster_labels))\n",
    "    numBins = len(np.unique(ground_truth)) #no. of ground truth values (or bins)\n",
    "    ground_truth_bin_matrix = np.zeros((numClusters, numBins)) #rows represent clusters; columns represent ground truth bins\n",
    "    \n",
    "    for i in range(len(X)):\n",
    "        data = X[i]\n",
    "        cluster_index = cluster_labels[i]\n",
    "        bin_index = ground_truth[i]\n",
    "        ground_truth_bin_matrix[cluster_index][bin_index] += 1\n",
    "    return ground_truth_bin_matrix"
   ]
  },
  {
   "cell_type": "code",
   "execution_count": null,
   "metadata": {},
   "outputs": [],
   "source": []
  },
  {
   "cell_type": "code",
   "execution_count": 60,
   "metadata": {},
   "outputs": [],
   "source": [
    "#Finding Entropy and Purity\n",
    "\"\"\"\n",
    "total_entropy = 0\n",
    "total_purity = 0\n",
    "\n",
    "for i in range(N):\n",
    "    Ci_count = sum(ground_truth_bin_matrix[i]) #number of elements in cluster i\n",
    "    \n",
    "    #normalizing rows\n",
    "    for j in range(N):\n",
    "        ground_truth_bin_matrix[i][j] /= Ci_count\n",
    "    \n",
    "    Ci_entropy = entropy(ground_truth_bin_matrix[i]) #entropy of cluster i\n",
    "    Ci_purity = max(ground_truth_bin_matrix[i])\n",
    "    print(Ci_purity)\n",
    "    total_entropy += Ci_count * Ci_entropy\n",
    "    total_purity += Ci_count * Ci_purity\n",
    "    \n",
    "total_entropy /= len(X)\n",
    "total_purity /= len(X)\n",
    "kmeans_entropy = total_entropy\n",
    "kmeans_purity = total_purity\n",
    "\"\"\"\n",
    "\n",
    "\n",
    "def compute_entropy_and_purity(ground_truth_bin_matrix, X):\n",
    "    numClusters = len(ground_truth_bin_matrix)\n",
    "    numBins = len(ground_truth_bin_matrix[0])\n",
    "    \n",
    "    total_entropy = 0\n",
    "    total_purity = 0\n",
    "    \n",
    "    for i in range(numClusters):\n",
    "        Ci_count = sum(ground_truth_bin_matrix[i]) #number of elements in cluster i\n",
    "        \n",
    "        #normalizing each row\n",
    "        for j in range(numBins):\n",
    "            ground_truth_bin_matrix[i][j] /= Ci_count\n",
    "        \n",
    "        Ci_entropy = entropy(ground_truth_bin_matrix[i]) #entropy of cluster i\n",
    "        Ci_purity = max(ground_truth_bin_matrix[i])\n",
    "        total_entropy += Ci_count * Ci_entropy\n",
    "        total_purity += Ci_count * Ci_purity\n",
    "        \n",
    "    total_entropy /= len(X)\n",
    "    total_purity /= len(X)\n",
    "    \n",
    "    return total_entropy, total_purity"
   ]
  },
  {
   "cell_type": "code",
   "execution_count": 61,
   "metadata": {},
   "outputs": [],
   "source": [
    "def get_entropy_and_purity(X, cluster_labels, ground_truth):\n",
    "    ground_truth_bin_matrix = form_ground_truth_bin_matrix(X, cluster_labels, ground_truth)\n",
    "    entropy, purity = compute_entropy_and_purity(ground_truth_bin_matrix, X)\n",
    "    return entropy, purity"
   ]
  },
  {
   "cell_type": "code",
   "execution_count": 62,
   "metadata": {},
   "outputs": [],
   "source": [
    "kmeans_entropy, kmeans_purity = get_entropy_and_purity(X, kmeans_labels, ground_truth)"
   ]
  },
  {
   "cell_type": "code",
   "execution_count": 63,
   "metadata": {},
   "outputs": [
    {
     "data": {
      "text/plain": [
       "(70.35433016569482, 1.4956889424137325, 0.3390151515151515)"
      ]
     },
     "execution_count": 63,
     "metadata": {},
     "output_type": "execute_result"
    }
   ],
   "source": [
    "kmeans_sse, kmeans_entropy, kmeans_purity"
   ]
  },
  {
   "cell_type": "code",
   "execution_count": null,
   "metadata": {},
   "outputs": [],
   "source": []
  },
  {
   "cell_type": "markdown",
   "metadata": {},
   "source": [
    "## DBSCAN Clustering"
   ]
  },
  {
   "cell_type": "markdown",
   "metadata": {},
   "source": [
    "## Finding epsilon and min points parameters for DBSCAN"
   ]
  },
  {
   "cell_type": "code",
   "execution_count": 64,
   "metadata": {},
   "outputs": [],
   "source": [
    "def calculate_kn_distance(X,k):\n",
    "    kn_distance = []\n",
    "    for i in range(len(X)):\n",
    "        eucl_dist = []\n",
    "        for j in range(len(X)):\n",
    "            eucl_dist.append(distance.euclidean(X[i], X[j]))\n",
    "        eucl_dist.sort()\n",
    "        kn_distance.append(eucl_dist[k])\n",
    "    return kn_distance"
   ]
  },
  {
   "cell_type": "code",
   "execution_count": 65,
   "metadata": {},
   "outputs": [],
   "source": [
    "k_dist = calculate_kn_distance(X, 14)"
   ]
  },
  {
   "cell_type": "code",
   "execution_count": 66,
   "metadata": {},
   "outputs": [],
   "source": [
    "k_dist.sort()"
   ]
  },
  {
   "cell_type": "code",
   "execution_count": 67,
   "metadata": {},
   "outputs": [
    {
     "data": {
      "text/plain": [
       "[<matplotlib.lines.Line2D at 0x12e6dea9dc8>]"
      ]
     },
     "execution_count": 67,
     "metadata": {},
     "output_type": "execute_result"
    },
    {
     "data": {
      "image/png": "[encoded data removed]",
      "text/plain": [
       "<Figure size 432x288 with 1 Axes>"
      ]
     },
     "metadata": {
      "needs_background": "light"
     },
     "output_type": "display_data"
    }
   ],
   "source": [
    "plt.plot(k_dist)"
   ]
  },
  {
   "cell_type": "code",
   "execution_count": 68,
   "metadata": {},
   "outputs": [
    {
     "name": "stdout",
     "output_type": "stream",
     "text": [
      "0.44139228286884397\n"
     ]
    },
    {
     "data": {
      "text/plain": [
       "<Figure size 360x360 with 0 Axes>"
      ]
     },
     "metadata": {},
     "output_type": "display_data"
    },
    {
     "data": {
      "image/png": "[encoded data removed]",
      "text/plain": [
       "<Figure size 432x432 with 1 Axes>"
      ]
     },
     "metadata": {
      "needs_background": "light"
     },
     "output_type": "display_data"
    }
   ],
   "source": [
    "from kneed import KneeLocator\n",
    "i = np.arange(len(k_dist))\n",
    "knee = KneeLocator(i, k_dist, S=1, curve='convex', direction='increasing', interp_method='polynomial')\n",
    "fig = plt.figure(figsize=(5, 5))\n",
    "knee.plot_knee()\n",
    "plt.xlabel(\"Points\")\n",
    "plt.ylabel(\"Distance\")\n",
    "\n",
    "print(k_dist[knee.knee])"
   ]
  },
  {
   "cell_type": "code",
   "execution_count": 69,
   "metadata": {},
   "outputs": [
    {
     "data": {
      "text/plain": [
       "'\\n2, 0.5-0.6  (2, 0.47)\\n3, 0.575 (3, 0.449)\\n4, 0.6\\n(15, 0.52)\\n(11, 0.4) - main.py\\n'"
      ]
     },
     "execution_count": 69,
     "metadata": {},
     "output_type": "execute_result"
    }
   ],
   "source": [
    "\"\"\"\n",
    "2, 0.5-0.6  (2, 0.47)\n",
    "3, 0.575 (3, 0.449)\n",
    "4, 0.6\n",
    "(15, 0.52)\n",
    "(11, 0.4) - main.py\n",
    "\"\"\""
   ]
  },
  {
   "cell_type": "markdown",
   "metadata": {},
   "source": [
    "### Performing DBSCAN"
   ]
  },
  {
   "cell_type": "code",
   "execution_count": 70,
   "metadata": {},
   "outputs": [],
   "source": [
    "#dbscan = DBSCAN(eps=0.65,min_samples=22).fit(X)\n",
    "dbscan = DBSCAN(eps=0.4,min_samples=14).fit(X)\n",
    "dbscan_labels = dbscan.labels_"
   ]
  },
  {
   "cell_type": "code",
   "execution_count": 71,
   "metadata": {},
   "outputs": [
    {
     "data": {
      "text/plain": [
       "(array([-1,  0], dtype=int64), array([ 21, 507], dtype=int64))"
      ]
     },
     "execution_count": 71,
     "metadata": {},
     "output_type": "execute_result"
    }
   ],
   "source": [
    "np.unique(dbscan_labels, return_counts = True)"
   ]
  },
  {
   "cell_type": "code",
   "execution_count": 72,
   "metadata": {},
   "outputs": [
    {
     "data": {
      "text/plain": [
       "(array([0, 1, 2, 3, 4, 5, 6]),\n",
       " array([ 41, 130,  83,  45,  73,  66,  90], dtype=int64))"
      ]
     },
     "execution_count": 72,
     "metadata": {},
     "output_type": "execute_result"
    }
   ],
   "source": [
    "np.unique(kmeans_labels, return_counts = True)"
   ]
  },
  {
   "cell_type": "code",
   "execution_count": 73,
   "metadata": {},
   "outputs": [],
   "source": [
    "clusters = {}\n",
    "for i in range(len(X)):\n",
    "    data = X[i]\n",
    "    cluster_index = dbscan_labels[i]\n",
    "    if cluster_index not in clusters:\n",
    "        clusters[cluster_index] = []\n",
    "    clusters[cluster_index].append(data)"
   ]
  },
  {
   "cell_type": "code",
   "execution_count": 74,
   "metadata": {},
   "outputs": [],
   "source": [
    "#Finding cluster mean\n",
    "\n",
    "clusters = {}\n",
    "for i in range(len(X)):\n",
    "    data = X[i]\n",
    "    cluster_index = dbscan_labels[i]\n",
    "    if cluster_index not in clusters:\n",
    "        clusters[cluster_index] = []\n",
    "    clusters[cluster_index].append(data)\n",
    "\n",
    "cluster_means = {}\n",
    "for key in clusters:\n",
    "    total = sum(clusters[key]) \n",
    "    count = len(clusters[key])\n",
    "    cluster_means[key] = total/count\n"
   ]
  },
  {
   "cell_type": "code",
   "execution_count": 75,
   "metadata": {},
   "outputs": [
    {
     "name": "stdout",
     "output_type": "stream",
     "text": [
      "314.8542859171958\n"
     ]
    }
   ],
   "source": [
    "#DBSCAN SSE\n",
    "\n",
    "dbscan_sse = 0\n",
    "for i in range(len(X)):\n",
    "    data = X[i]\n",
    "    cluster_label = dbscan_labels[i]\n",
    "    cluster_mean = cluster_means[cluster_label]\n",
    "    dist = distance.euclidean(data, cluster_mean)\n",
    "    dbscan_sse += math.pow(dist, 2)\n",
    "print(dbscan_sse)"
   ]
  },
  {
   "cell_type": "code",
   "execution_count": 76,
   "metadata": {},
   "outputs": [
    {
     "data": {
      "text/plain": [
       "(1.539936458697275, 0.29924242424242425)"
      ]
     },
     "execution_count": 76,
     "metadata": {},
     "output_type": "execute_result"
    }
   ],
   "source": [
    "dbscan_entropy, dbscan_purity = get_entropy_and_purity(X, dbscan_labels, ground_truth)\n",
    "dbscan_entropy, dbscan_purity"
   ]
  },
  {
   "cell_type": "markdown",
   "metadata": {},
   "source": [
    "## DBSCAN + Bisecting K-means"
   ]
  },
  {
   "cell_type": "code",
   "execution_count": 77,
   "metadata": {},
   "outputs": [],
   "source": [
    "X_df = pd.DataFrame(X)\n",
    "X_df['Ground Truth Bin'] = ground_truth\n",
    "X_with_ground_truth = X_df.to_numpy()"
   ]
  },
  {
   "cell_type": "code",
   "execution_count": 78,
   "metadata": {},
   "outputs": [],
   "source": [
    "def retrieve_clusters(data_array, labels):\n",
    "    clusters = []\n",
    "    df = pd.DataFrame(data_array)\n",
    "    df['label'] = labels\n",
    "    unique_labels = df['label'].unique()\n",
    "    for label in unique_labels:\n",
    "        clusters.append(df[df['label'] == label].loc[:, df.columns != 'label'].to_numpy())\n",
    "    return clusters"
   ]
  },
  {
   "cell_type": "code",
   "execution_count": 79,
   "metadata": {},
   "outputs": [],
   "source": [
    "def compute_sse_for_clusters(clusters_list):\n",
    "    sse_list = []\n",
    "    for cluster in clusters_list:\n",
    "        cluster_mean = sum(cluster)/len(cluster)\n",
    "        sse = 0\n",
    "        for point in cluster:\n",
    "            sse += math.pow(distance.euclidean(point, cluster_mean), 2)\n",
    "        sse_list.append(sse)\n",
    "    return sse_list"
   ]
  },
  {
   "cell_type": "code",
   "execution_count": 80,
   "metadata": {},
   "outputs": [],
   "source": [
    "def partition_using_bisecting_kmeans(data_array):\n",
    "    clustering = KMeans(n_clusters = 2, random_state=0).fit(data_array)\n",
    "    clusters_list = retrieve_clusters(data_array, clustering.labels_)\n",
    "    return clusters_list"
   ]
  },
  {
   "cell_type": "code",
   "execution_count": 81,
   "metadata": {},
   "outputs": [],
   "source": [
    "dbscan = DBSCAN(eps=0.8,min_samples=14).fit(X)\n",
    "dbscan_labels = dbscan.labels_"
   ]
  },
  {
   "cell_type": "code",
   "execution_count": 82,
   "metadata": {},
   "outputs": [
    {
     "data": {
      "text/plain": [
       "(array([-1,  0], dtype=int64), array([  1, 527], dtype=int64))"
      ]
     },
     "execution_count": 82,
     "metadata": {},
     "output_type": "execute_result"
    }
   ],
   "source": [
    "np.unique(dbscan_labels, return_counts = True)"
   ]
  },
  {
   "cell_type": "code",
   "execution_count": 83,
   "metadata": {},
   "outputs": [
    {
     "name": "stdout",
     "output_type": "stream",
     "text": [
      "183.77932945595606\n"
     ]
    }
   ],
   "source": [
    "clusters_list_with_ground_truth = retrieve_clusters(X_with_ground_truth, dbscan_labels)\n",
    "#clusters_list_with_ground_truth = [X_with_ground_truth]\n",
    "clusters_list_without_ground_truth = [cluster[:, :-1] for cluster in clusters_list_with_ground_truth]\n",
    "\n",
    "sse_list = compute_sse_for_clusters(clusters_list_without_ground_truth)\n",
    "while len(clusters_list_with_ground_truth) < N:\n",
    "    max_sse_index = np.argsort(sse_list)[-1]\n",
    "    new_clusters = partition_using_bisecting_kmeans(clusters_list_with_ground_truth[max_sse_index])\n",
    "    clusters_list_with_ground_truth = clusters_list_with_ground_truth[:max_sse_index] + clusters_list_with_ground_truth[max_sse_index + 1 :] + new_clusters\n",
    "    clusters_list_without_ground_truth = [cluster[:, :-1] for cluster in clusters_list_with_ground_truth]\n",
    "    sse_list = compute_sse_for_clusters(clusters_list_without_ground_truth)\n",
    "dbscan_sse = sum(sse_list)\n",
    "print(dbscan_sse)"
   ]
  },
  {
   "cell_type": "code",
   "execution_count": 84,
   "metadata": {},
   "outputs": [
    {
     "data": {
      "text/plain": [
       "[1, 158, 141, 52, 76, 39, 61]"
      ]
     },
     "execution_count": 84,
     "metadata": {},
     "output_type": "execute_result"
    }
   ],
   "source": [
    "[len(cluster) for cluster in clusters_list_with_ground_truth]"
   ]
  },
  {
   "cell_type": "code",
   "execution_count": 85,
   "metadata": {},
   "outputs": [
    {
     "name": "stdout",
     "output_type": "stream",
     "text": [
      "183.77932945595606 0.431558720042098 0.7178030303030303\n"
     ]
    }
   ],
   "source": [
    "data_array = []\n",
    "cluster_labels = []\n",
    "data_ground_truth_bins = []\n",
    "for i in range(len(clusters_list_with_ground_truth)):\n",
    "    cluster_data_with_ground_truth = clusters_list_with_ground_truth[i]\n",
    "    for data in cluster_data_with_ground_truth:\n",
    "        data_array.append(data[:-1])\n",
    "        data_ground_truth_bins.append(int(data[-1]))\n",
    "        cluster_labels.append(i)\n",
    "dbscan_entropy, dbscan_purity = get_entropy_and_purity(data_array, cluster_labels, data_ground_truth_bins)\n",
    "print(dbscan_sse, dbscan_entropy, dbscan_purity)"
   ]
  },
  {
   "cell_type": "markdown",
   "metadata": {},
   "source": [
    "## Storing Result"
   ]
  },
  {
   "cell_type": "code",
   "execution_count": 86,
   "metadata": {},
   "outputs": [],
   "source": [
    "result_df = pd.DataFrame([[kmeans_sse, dbscan_sse, kmeans_entropy, dbscan_entropy, kmeans_purity, dbscan_purity]])"
   ]
  },
  {
   "cell_type": "code",
   "execution_count": 87,
   "metadata": {},
   "outputs": [
    {
     "data": {
      "text/html": [
       "<div>\n",
       "<style scoped>\n",
       "    .dataframe tbody tr th:only-of-type {\n",
       "        vertical-align: middle;\n",
       "    }\n",
       "\n",
       "    .dataframe tbody tr th {\n",
       "        vertical-align: top;\n",
       "    }\n",
       "\n",
       "    .dataframe thead th {\n",
       "        text-align: right;\n",
       "    }\n",
       "</style>\n",
       "<table border=\"1\" class=\"dataframe\">\n",
       "  <thead>\n",
       "    <tr style=\"text-align: right;\">\n",
       "      <th></th>\n",
       "      <th>0</th>\n",
       "      <th>1</th>\n",
       "      <th>2</th>\n",
       "      <th>3</th>\n",
       "      <th>4</th>\n",
       "      <th>5</th>\n",
       "    </tr>\n",
       "  </thead>\n",
       "  <tbody>\n",
       "    <tr>\n",
       "      <th>0</th>\n",
       "      <td>70.35433</td>\n",
       "      <td>183.779329</td>\n",
       "      <td>1.495689</td>\n",
       "      <td>0.431559</td>\n",
       "      <td>0.339015</td>\n",
       "      <td>0.717803</td>\n",
       "    </tr>\n",
       "  </tbody>\n",
       "</table>\n",
       "</div>"
      ],
      "text/plain": [
       "          0           1         2         3         4         5\n",
       "0  70.35433  183.779329  1.495689  0.431559  0.339015  0.717803"
      ]
     },
     "execution_count": 87,
     "metadata": {},
     "output_type": "execute_result"
    }
   ],
   "source": [
    "result_df"
   ]
  },
  {
   "cell_type": "code",
   "execution_count": 88,
   "metadata": {},
   "outputs": [],
   "source": [
    "result_df.to_csv('Results.csv', index = False, header = False)"
   ]
  },
  {
   "cell_type": "code",
   "execution_count": 89,
   "metadata": {},
   "outputs": [
    {
     "ename": "SyntaxError",
     "evalue": "invalid syntax (<ipython-input-89-d6819bbd58d2>, line 1)",
     "output_type": "error",
     "traceback": [
      "\u001b[1;36m  File \u001b[1;32m\"<ipython-input-89-d6819bbd58d2>\"\u001b[1;36m, line \u001b[1;32m1\u001b[0m\n\u001b[1;33m    kmeans purity - 0.348485, 0.361151 - Test case 17 passed\u001b[0m\n\u001b[1;37m                ^\u001b[0m\n\u001b[1;31mSyntaxError\u001b[0m\u001b[1;31m:\u001b[0m invalid syntax\n"
     ]
    }
   ],
   "source": [
    "kmeans purity - 0.348485, 0.361151 - Test case 17 passed\n",
    "\n",
    "kmeans entropy - 1.489256 - Test case 1 passed\n",
    "\n",
    "Test case 22 - dbscan purity - 0.29\n",
    "Test case 27 - dbscan purity - 0.570076\n",
    "Test case 20 - dbscan purity - 0.664773\n",
    "Test case 19 - dbscan purity - 0.842475, 0.844604\n",
    "Test case 21 - dbscan purity - 0.473485\n",
    "\n",
    "dbscan entropy - 1.540834, 0.234801 - Test case 7 passed \n",
    "Test case 12 - dbscan entropy - 0.139786"
   ]
  },
  {
   "cell_type": "code",
   "execution_count": null,
   "metadata": {},
   "outputs": [],
   "source": []
  },
  {
   "cell_type": "code",
   "execution_count": null,
   "metadata": {},
   "outputs": [],
   "source": []
  }
 ],
 "metadata": {
  "kernelspec": {
   "display_name": "Python 3",
   "language": "python",
   "name": "python3"
  },
  "language_info": {
   "codemirror_mode": {
    "name": "ipython",
    "version": 3
   },
   "file_extension": ".py",
   "mimetype": "text/x-python",
   "name": "python",
   "nbconvert_exporter": "python",
   "pygments_lexer": "ipython3",
   "version": "3.7.11"
  }
 },
 "nbformat": 4,
 "nbformat_minor": 2
}
